{
 "cells": [
  {
   "cell_type": "code",
   "execution_count": 0,
   "metadata": {
    "application/vnd.databricks.v1+cell": {
     "cellMetadata": {
      "byteLimit": 2048000,
      "rowLimit": 10000
     },
     "inputWidgets": {},
     "nuid": "2d584faa-c26a-4c2c-81e8-9254c2544f59",
     "showTitle": false,
     "tableResultSettingsMap": {},
     "title": ""
    }
   },
   "outputs": [],
   "source": [
    "%pip install Pdfplumber langchain pymupdf\n",
    "dbutils.library.restartPython()"
   ]
  },
  {
   "cell_type": "code",
   "execution_count": 0,
   "metadata": {
    "application/vnd.databricks.v1+cell": {
     "cellMetadata": {
      "byteLimit": 2048000,
      "rowLimit": 10000
     },
     "inputWidgets": {},
     "nuid": "68d500ba-071a-4a72-b72a-740985d5f5fa",
     "showTitle": false,
     "tableResultSettingsMap": {},
     "title": ""
    }
   },
   "outputs": [],
   "source": [
    "import fitz, statistics\n",
    "from langchain.schema import Document\n",
    "\n",
    "def load_twocol_pdf_auto(path:str):\n",
    "    pdf = fitz.open(path)\n",
    "    docs = []\n",
    "    for pno in range(pdf.page_count):\n",
    "        page = pdf.load_page(pno)\n",
    "        blocks = page.get_text(\"blocks\")  # (x0, y0, x1, y1, text, block_no, ...)\n",
    "        # keep text blocks only\n",
    "        blocks = [b for b in blocks if isinstance(b[4], str) and b[4].strip()]\n",
    "\n",
    "        # midpoints of blocks\n",
    "        mids = sorted([( (b[0]+b[2])/2, b ) for b in blocks], key=lambda x: x[0])\n",
    "        if not mids:\n",
    "            docs.append(Document(page_content=\"\", metadata={\"source\": path, \"page\": pno+1}))\n",
    "            continue\n",
    "\n",
    "        # find biggest horizontal gap between sorted midpoints\n",
    "        gaps = []\n",
    "        for i in range(len(mids)-1):\n",
    "            gaps.append((mids[i+1][0]-mids[i][0], (mids[i][0]+mids[i+1][0])/2))\n",
    "        # fallback to geometric center if something odd\n",
    "        split_x = page.rect.x0 + page.rect.width/2\n",
    "        if gaps:\n",
    "            gaps.sort(key=lambda g: g[0], reverse=True)\n",
    "            split_x = gaps[0][1]\n",
    "\n",
    "        left_rect  = fitz.Rect(page.rect.x0, page.rect.y0, split_x, page.rect.y1)\n",
    "        right_rect = fitz.Rect(split_x, page.rect.y0, page.rect.x1, page.rect.y1)\n",
    "\n",
    "        left_text  = page.get_text(\"text\", clip=left_rect)\n",
    "        right_text = page.get_text(\"text\", clip=right_rect)\n",
    "\n",
    "        combined = (left_text or \"\").strip() + \"\\n\" + (right_text or \"\").strip()\n",
    "        docs.append(Document(page_content=combined, metadata={\"source\": path, \"page\": pno+1, \"split_x\": split_x}))\n",
    "    pdf.close()\n",
    "    return docs\n"
   ]
  },
  {
   "cell_type": "code",
   "execution_count": 0,
   "metadata": {
    "application/vnd.databricks.v1+cell": {
     "cellMetadata": {
      "byteLimit": 2048000,
      "rowLimit": 10000
     },
     "inputWidgets": {},
     "nuid": "1e33a29c-80c9-4df4-8425-dfb97e28655b",
     "showTitle": false,
     "tableResultSettingsMap": {
      "0": {
       "dataGridStateBlob": "{\"version\":1,\"tableState\":{\"columnPinning\":{\"left\":[\"#row_number#\"],\"right\":[]},\"columnSizing\":{\"file_name\":188},\"columnVisibility\":{}},\"settings\":{\"columns\":{}},\"syncTimestamp\":1756403541689}",
       "filterBlob": null,
       "queryPlanFiltersBlob": null,
       "tableResultIndex": 0
      }
     },
     "title": ""
    }
   },
   "outputs": [],
   "source": [
    "from pyspark.sql.functions import substring_index\n",
    "\n",
    "directory_path = \"/Volumes/llmdb2/rag/docloader\"\n",
    "\n",
    "#list all the files in the directory\n",
    "files_paths = [file.path for file in dbutils.fs.ls(directory_path)]\n",
    "#print(files_paths)\n",
    "\n",
    "df = spark.createDataFrame(files_paths, \"string\").select(substring_index(\"value\", \"/\", -1).alias(\"file_name\"))\n",
    "\n",
    "df.display()"
   ]
  },
  {
   "cell_type": "code",
   "execution_count": 0,
   "metadata": {
    "application/vnd.databricks.v1+cell": {
     "cellMetadata": {
      "byteLimit": 2048000,
      "rowLimit": 10000
     },
     "inputWidgets": {},
     "nuid": "5dc655ff-2bdd-4b5a-99ee-6f924a725bbf",
     "showTitle": false,
     "tableResultSettingsMap": {},
     "title": ""
    }
   },
   "outputs": [],
   "source": [
    "import os\n",
    "import pdfplumber\n",
    "from langchain.text_splitter import RecursiveCharacterTextSplitter\n",
    "\n",
    "# pdf_volume_path = \"/Volumes/llmdb2/rag/docloader\"\n",
    "\n",
    "# # get the list of already processed pdf files\n",
    "\n",
    "# processed_files = spark.sql(f\"SELECT DISTINCT file_name FROM llmdb2.rag.docs_load_tracker\").collect()\n",
    "\n",
    "# processed_files = set(row[\"file_name\"] for row in processed_files)\n",
    "\n",
    "# # process new pdf files only\n",
    "\n",
    "# new_files = [file for file in os.listdir(pdf_volume_path) if file not in processed_files]\n",
    "\n",
    "# all_text = '' # initialize all_text to store text from new pdf files\n",
    "\n",
    "# for file_name in new_files:\n",
    "#     pdf_path = os.path.join(pdf_volume_path, file_name)\n",
    "\n",
    "#     with pdfplumber.open(pdf_path) as pdf:\n",
    "#         for pdf_page in pdf.pages:\n",
    "#             single_page_text = pdf_page.extract_text()\n",
    "#             all_text = all_text + '\\n' + single_page_text\n",
    "\n",
    "\n",
    "\n",
    "\n",
    "# # #split the text into chunks\n",
    "\n",
    "# # from langchain.text_splitter import RecursiveCharacterTextSplitter\n",
    "\n",
    "# # length_function = len\n",
    "\n",
    "# # splitter = RecursiveCharacterTextSplitter(\n",
    "# #     separators=[\"\\n\\n\", \"\\n\", \" \", \"\"],\n",
    "# #     chunk_size=1000,\n",
    "# #     chunk_overlap=200,\n",
    "# #     length_function=length_function\n",
    "# # )\n",
    "\n",
    "# # chunks = splitter.split_text(all_text)\n",
    "\n",
    "# # print(chunks)\n",
    "\n",
    "\n"
   ]
  },
  {
   "cell_type": "code",
   "execution_count": 0,
   "metadata": {
    "application/vnd.databricks.v1+cell": {
     "cellMetadata": {
      "byteLimit": 2048000,
      "rowLimit": 10000
     },
     "inputWidgets": {},
     "nuid": "87f72e10-ae18-4a47-93f2-860a3fde2d55",
     "showTitle": false,
     "tableResultSettingsMap": {},
     "title": ""
    }
   },
   "outputs": [],
   "source": [
    "from langchain.text_splitter import RecursiveCharacterTextSplitter\n",
    "\n",
    "splitter = RecursiveCharacterTextSplitter(\n",
    "    chunk_size=1200, chunk_overlap=150, separators=[\"\\n\\n\", \"\\n\", \" \", \"\"]\n",
    ")\n",
    "chunks = splitter.split_documents(load_twocol_pdf_auto('/Volumes/llmdb2/rag/docloader/db2z_11_codesbook.pdf'))  # or load_twocol_pdf_auto / ocr_twocol_pdf\n"
   ]
  },
  {
   "cell_type": "code",
   "execution_count": 0,
   "metadata": {
    "application/vnd.databricks.v1+cell": {
     "cellMetadata": {
      "byteLimit": 2048000,
      "rowLimit": 10000
     },
     "inputWidgets": {},
     "nuid": "a036505d-63a7-4199-b336-b775f9310100",
     "showTitle": false,
     "tableResultSettingsMap": {},
     "title": ""
    }
   },
   "outputs": [],
   "source": [
    "# from pyspark.sql.functions import pandas_udf\n",
    "# from pyspark.sql.types import ArrayType, StringType\n",
    "# import pandas as pd\n",
    "\n",
    "# @pandas_udf(\"array<string>\")\n",
    "# def get_chunks(dummy):\n",
    "#     return pd.Series([chunks])\n",
    "\n",
    "# # Register the UDF\n",
    "# spark.udf.register(\"get_chunks_udf\", get_chunks)"
   ]
  },
  {
   "cell_type": "code",
   "execution_count": 0,
   "metadata": {
    "application/vnd.databricks.v1+cell": {
     "cellMetadata": {
      "byteLimit": 2048000,
      "implicitDf": true,
      "rowLimit": 10000
     },
     "inputWidgets": {},
     "nuid": "a7601bd3-f3ab-4e8d-b9ac-68e16713f4ff",
     "showTitle": false,
     "tableResultSettingsMap": {},
     "title": ""
    }
   },
   "outputs": [],
   "source": [
    "df_chunks = spark.createDataFrame(chunks, \"string\").toDF(\"text\")\n",
    "df_chunks.write.mode(\"append\").saveAsTable(\"llmdb2.rag.docs_text\")"
   ]
  },
  {
   "cell_type": "code",
   "execution_count": 0,
   "metadata": {
    "application/vnd.databricks.v1+cell": {
     "cellMetadata": {
      "byteLimit": 2048000,
      "implicitDf": true,
      "rowLimit": 10000
     },
     "inputWidgets": {},
     "nuid": "bebd6d42-8225-43f6-8fab-1b2cd81cee20",
     "showTitle": false,
     "tableResultSettingsMap": {},
     "title": ""
    }
   },
   "outputs": [],
   "source": [
    "%sql\n",
    "select * from llmdb2.rag.docs_text"
   ]
  },
  {
   "cell_type": "code",
   "execution_count": 0,
   "metadata": {
    "application/vnd.databricks.v1+cell": {
     "cellMetadata": {
      "byteLimit": 2048000,
      "rowLimit": 10000
     },
     "inputWidgets": {},
     "nuid": "c06b0afd-bc64-427c-8c46-897baf5fe14f",
     "showTitle": false,
     "tableResultSettingsMap": {},
     "title": ""
    }
   },
   "outputs": [],
   "source": [
    "df.createOrReplaceTempView(\"temp_table\")  # Create a temporary table from the DataFrame\n",
    "\n",
    "# Insert only the rows that do not exist in the target table\n",
    "spark.sql(\"\"\"\n",
    "    INSERT INTO llmdb2.rag.docs_load_tracker\n",
    "    SELECT * , current_timestamp FROM temp_table\n",
    "    WHERE NOT EXISTS (\n",
    "        SELECT 1 FROM llmdb2.rag.docs_load_tracker\n",
    "        WHERE temp_table.file_name = llmdb2.rag.docs_load_tracker.file_name\n",
    "    )\n",
    "\"\"\")"
   ]
  },
  {
   "cell_type": "code",
   "execution_count": 0,
   "metadata": {
    "application/vnd.databricks.v1+cell": {
     "cellMetadata": {},
     "inputWidgets": {},
     "nuid": "5c5d75a3-a990-4e86-9f95-456a779cf154",
     "showTitle": false,
     "tableResultSettingsMap": {},
     "title": ""
    }
   },
   "outputs": [],
   "source": []
  }
 ],
 "metadata": {
  "application/vnd.databricks.v1+notebook": {
   "computePreferences": {
    "hardware": {
     "accelerator": null,
     "gpuPoolId": null,
     "memory": null
    }
   },
   "dashboards": [],
   "environmentMetadata": {
    "base_environment": "",
    "environment_version": "3"
   },
   "inputWidgetPreferences": null,
   "language": "python",
   "notebookMetadata": {
    "mostRecentlyExecutedCommandWithImplicitDF": {
     "commandId": 5433170052143377,
     "dataframes": [
      "_sqldf"
     ]
    },
    "pythonIndentUnit": 4
   },
   "notebookName": "document_loader",
   "widgets": {}
  },
  "language_info": {
   "name": "python"
  }
 },
 "nbformat": 4,
 "nbformat_minor": 0
}
